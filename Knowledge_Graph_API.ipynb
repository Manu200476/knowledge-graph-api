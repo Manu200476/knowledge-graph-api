{
  "nbformat": 4,
  "nbformat_minor": 0,
  "metadata": {
    "kernelspec": {
      "display_name": "Python 3",
      "language": "python",
      "name": "python3"
    },
    "language_info": {
      "codemirror_mode": {
        "name": "ipython",
        "version": 3
      },
      "file_extension": ".py",
      "mimetype": "text/x-python",
      "name": "python",
      "nbconvert_exporter": "python",
      "pygments_lexer": "ipython3",
      "version": "3.7.2"
    },
    "colab": {
      "name": "Knowledge Graph API.ipynb",
      "provenance": [],
      "collapsed_sections": []
    }
  },
  "cells": [
    {
      "cell_type": "markdown",
      "source": [
        "# Knowledge Graph API"
      ],
      "metadata": {
        "id": "y-SVWAZQvJvy"
      }
    },
    {
      "cell_type": "code",
      "source": [
        "pip install pandas"
      ],
      "metadata": {
        "id": "KiKer_Jjr82X"
      },
      "execution_count": null,
      "outputs": []
    },
    {
      "cell_type": "code",
      "metadata": {
        "id": "jA4lpJzO_bZS"
      },
      "source": [
        "import pandas as pd\n",
        "import json\n",
        "import urllib\n",
        "from google.colab import files"
      ],
      "execution_count": null,
      "outputs": []
    },
    {
      "cell_type": "code",
      "metadata": {
        "id": "uXB6YaxB_bZS"
      },
      "source": [
        "df = pd.DataFrame(columns=['Entity', 'Name KG', 'Result KG'])\n",
        "lang = 'es'\n",
        "apikey = 'YOUR API KEY'\n",
        "types = 'Person'\n",
        "\n",
        "def queryKnowleadgeGraphApi(entity):\n",
        "    service_url = 'https://kgsearch.googleapis.com/v1/entities:search'\n",
        "    params = {\n",
        "        'query': entity,\n",
        "        'limit': 10,\n",
        "        'indent': True,\n",
        "        'types': types,\n",
        "        'languages': lang,\n",
        "        'key': apikey,\n",
        "    }\n",
        "    url = f'{service_url}?{urllib.parse.urlencode(params)}'\n",
        "    response = json.loads(urllib.request.urlopen(url).read())\n",
        "    \n",
        "    results = []\n",
        "    \n",
        "    for element in response['itemListElement']:      \n",
        "        name = element['result']['name']\n",
        "        result = element['result']\n",
        "        results.append([entity,name,result])\n",
        "    \n",
        "    return results\n",
        "    "
      ],
      "execution_count": null,
      "outputs": []
    },
    {
      "cell_type": "code",
      "metadata": {
        "id": "425e7XHU_bZT"
      },
      "source": [
        "persons = ['Fabian Farell','Nic Johnston','Vol2Cat','Plastic Funk','Justin Bieber','Drake','Travis Scott','Michael Jackson','Bob Marley','Ludwig van Beethoven'] \n",
        "           \n",
        "for person in persons:\n",
        "    result = queryKnowleadgeGraphApi(person)\n",
        "    df = df.append(result, ignore_index=True)"
      ],
      "execution_count": null,
      "outputs": []
    },
    {
      "cell_type": "code",
      "metadata": {
        "id": "tpLC6IKb_bZU"
      },
      "source": [
        "print(df)\n",
        "df.to_csv('dfKnowledgeGraph.csv')\n",
        "files.download('dfKnowledgeGraph.csv')"
      ],
      "execution_count": null,
      "outputs": []
    }
  ]
}